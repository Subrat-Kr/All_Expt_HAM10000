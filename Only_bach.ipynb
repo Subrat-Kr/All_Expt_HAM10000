{
 "cells": [
  {
   "cell_type": "code",
   "execution_count": null,
   "id": "8b5a360b",
   "metadata": {},
   "outputs": [],
   "source": [
    "#Using os library to walk through folders\n",
    "import os\n",
    "import cv2\n",
    "from skimage import img_as_ubyte\n",
    "\n",
    "img_number = 1 # not mandatory to write this line\n",
    "for root, dirs, files in os.walk(\"archive/HAM10000_images_part_1\"):\n",
    "    \n",
    "#for path,subdir,files in os.walk(\".\"):\n",
    "#   for name in dirs:\n",
    "#       print (os.path.join(root, name)) # will print path of directories\n",
    "   for name in files:    \n",
    "       print (os.path.join(root, name)) # will print path of files \n",
    "       path = os.path.join(root, name)\n",
    "       img= cv2.imread(path, 0)  #now, we can read each file since we have the full path\n",
    "       \n",
    "       "
   ]
  },
  {
   "cell_type": "code",
   "execution_count": null,
   "id": "8bc6115c",
   "metadata": {},
   "outputs": [],
   "source": []
  },
  {
   "cell_type": "code",
   "execution_count": 7,
   "id": "4fefe86e",
   "metadata": {},
   "outputs": [],
   "source": [
    "import pandas as pd"
   ]
  },
  {
   "cell_type": "code",
   "execution_count": 3,
   "id": "7bf0cf42",
   "metadata": {},
   "outputs": [
    {
     "name": "stdout",
     "output_type": "stream",
     "text": [
      "\u001b[0m\u001b[01;34mAll_vindhya\u001b[0m/  \u001b[01;34mDownloads\u001b[0m/          \u001b[01;34mJoCoR-env\u001b[0m/       pakgs.txt  \u001b[01;34mTemplates\u001b[0m/\r\n",
      "\u001b[01;34mAll_Vindhya\u001b[0m/  gora_jocor_bach.py  \u001b[01;34mjocorfinal-env\u001b[0m/  \u001b[01;34mPictures\u001b[0m/  \u001b[01;34mVideos\u001b[0m/\r\n",
      "\u001b[01;34mDesktop\u001b[0m/      \u001b[01;34mhome\u001b[0m/               \u001b[01;34mJoCoR_new-env\u001b[0m/   \u001b[01;34mPublic\u001b[0m/\r\n",
      "\u001b[01;34mDocuments\u001b[0m/    \u001b[01;34mJoCoR_bach\u001b[0m/         \u001b[01;34mMusic\u001b[0m/           \u001b[01;34mruns\u001b[0m/\r\n"
     ]
    }
   ],
   "source": [
    "ls"
   ]
  },
  {
   "cell_type": "code",
   "execution_count": 4,
   "id": "747b5f55",
   "metadata": {},
   "outputs": [
    {
     "name": "stdout",
     "output_type": "stream",
     "text": [
      "/home/subrat/JoCoR_bach\n"
     ]
    }
   ],
   "source": [
    "cd JoCoR_bach/"
   ]
  },
  {
   "cell_type": "code",
   "execution_count": 5,
   "id": "cceda098",
   "metadata": {},
   "outputs": [
    {
     "name": "stdout",
     "output_type": "stream",
     "text": [
      "\u001b[0m\u001b[01;34mData\u001b[0m/              model-fold-2.pth         Only_K_clean_bach.py\r\n",
      "JoCoR_final.ipynb  model-fold-3.pth         \u001b[01;34mruns\u001b[0m/\r\n",
      "model-fold-0.pth   model-fold-4.pth         train_test_val_csv_split.ipynb\r\n",
      "model-fold-1.pth   Only_K_clean_bach.ipynb\r\n"
     ]
    }
   ],
   "source": [
    "ls"
   ]
  },
  {
   "cell_type": "code",
   "execution_count": 11,
   "id": "dc6a3e95",
   "metadata": {},
   "outputs": [],
   "source": [
    "d = pd.read_csv('Data/train_data_clean.csv')"
   ]
  },
  {
   "cell_type": "code",
   "execution_count": 12,
   "id": "22b8659b",
   "metadata": {},
   "outputs": [
    {
     "data": {
      "text/html": [
       "<div>\n",
       "<style scoped>\n",
       "    .dataframe tbody tr th:only-of-type {\n",
       "        vertical-align: middle;\n",
       "    }\n",
       "\n",
       "    .dataframe tbody tr th {\n",
       "        vertical-align: top;\n",
       "    }\n",
       "\n",
       "    .dataframe thead th {\n",
       "        text-align: right;\n",
       "    }\n",
       "</style>\n",
       "<table border=\"1\" class=\"dataframe\">\n",
       "  <thead>\n",
       "    <tr style=\"text-align: right;\">\n",
       "      <th></th>\n",
       "      <th>Unnamed: 0</th>\n",
       "      <th>Name</th>\n",
       "      <th>label</th>\n",
       "    </tr>\n",
       "  </thead>\n",
       "  <tbody>\n",
       "    <tr>\n",
       "      <th>0</th>\n",
       "      <td>34</td>\n",
       "      <td>n036.tif</td>\n",
       "      <td>0</td>\n",
       "    </tr>\n",
       "    <tr>\n",
       "      <th>1</th>\n",
       "      <td>170</td>\n",
       "      <td>b072.tif</td>\n",
       "      <td>1</td>\n",
       "    </tr>\n",
       "    <tr>\n",
       "      <th>2</th>\n",
       "      <td>313</td>\n",
       "      <td>iv015.tif</td>\n",
       "      <td>3</td>\n",
       "    </tr>\n",
       "    <tr>\n",
       "      <th>3</th>\n",
       "      <td>381</td>\n",
       "      <td>iv083.tif</td>\n",
       "      <td>3</td>\n",
       "    </tr>\n",
       "    <tr>\n",
       "      <th>4</th>\n",
       "      <td>220</td>\n",
       "      <td>is022.tif</td>\n",
       "      <td>2</td>\n",
       "    </tr>\n",
       "    <tr>\n",
       "      <th>...</th>\n",
       "      <td>...</td>\n",
       "      <td>...</td>\n",
       "      <td>...</td>\n",
       "    </tr>\n",
       "    <tr>\n",
       "      <th>154</th>\n",
       "      <td>154</td>\n",
       "      <td>b056.tif</td>\n",
       "      <td>1</td>\n",
       "    </tr>\n",
       "    <tr>\n",
       "      <th>155</th>\n",
       "      <td>197</td>\n",
       "      <td>b099.tif</td>\n",
       "      <td>1</td>\n",
       "    </tr>\n",
       "    <tr>\n",
       "      <th>156</th>\n",
       "      <td>6</td>\n",
       "      <td>n008.tif</td>\n",
       "      <td>0</td>\n",
       "    </tr>\n",
       "    <tr>\n",
       "      <th>157</th>\n",
       "      <td>222</td>\n",
       "      <td>is024.tif</td>\n",
       "      <td>2</td>\n",
       "    </tr>\n",
       "    <tr>\n",
       "      <th>158</th>\n",
       "      <td>270</td>\n",
       "      <td>is072.tif</td>\n",
       "      <td>2</td>\n",
       "    </tr>\n",
       "  </tbody>\n",
       "</table>\n",
       "<p>159 rows × 3 columns</p>\n",
       "</div>"
      ],
      "text/plain": [
       "     Unnamed: 0       Name  label\n",
       "0            34   n036.tif      0\n",
       "1           170   b072.tif      1\n",
       "2           313  iv015.tif      3\n",
       "3           381  iv083.tif      3\n",
       "4           220  is022.tif      2\n",
       "..          ...        ...    ...\n",
       "154         154   b056.tif      1\n",
       "155         197   b099.tif      1\n",
       "156           6   n008.tif      0\n",
       "157         222  is024.tif      2\n",
       "158         270  is072.tif      2\n",
       "\n",
       "[159 rows x 3 columns]"
      ]
     },
     "execution_count": 12,
     "metadata": {},
     "output_type": "execute_result"
    }
   ],
   "source": [
    "d"
   ]
  },
  {
   "cell_type": "code",
   "execution_count": 2,
   "id": "ac0d483a",
   "metadata": {},
   "outputs": [],
   "source": [
    "# d.label.hist()"
   ]
  },
  {
   "cell_type": "code",
   "execution_count": 14,
   "id": "2e01e1f5",
   "metadata": {},
   "outputs": [],
   "source": [
    "e = pd.read_csv('Data/val_data_clean.csv')"
   ]
  },
  {
   "cell_type": "code",
   "execution_count": 1,
   "id": "7c9592b2",
   "metadata": {},
   "outputs": [],
   "source": [
    "# e.label.hist()"
   ]
  },
  {
   "cell_type": "code",
   "execution_count": null,
   "id": "24ad04b1",
   "metadata": {},
   "outputs": [],
   "source": []
  }
 ],
 "metadata": {
  "kernelspec": {
   "display_name": "Python 3 (ipykernel)",
   "language": "python",
   "name": "python3"
  },
  "language_info": {
   "codemirror_mode": {
    "name": "ipython",
    "version": 3
   },
   "file_extension": ".py",
   "mimetype": "text/x-python",
   "name": "python",
   "nbconvert_exporter": "python",
   "pygments_lexer": "ipython3",
   "version": "3.8.10"
  }
 },
 "nbformat": 4,
 "nbformat_minor": 5
}
